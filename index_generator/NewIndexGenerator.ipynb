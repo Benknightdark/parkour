{
 "cells": [
  {
   "cell_type": "code",
   "execution_count": 52,
   "metadata": {
    "collapsed": false,
    "deletable": true,
    "editable": true
   },
   "outputs": [],
   "source": [
    "import os\n",
    "import sys\n",
    "import django\n",
    "\n",
    "sys.path.insert(0, os.path.abspath('..'))\n",
    "os.environ['DJANGO_SETTINGS_MODULE'] = 'wui.settings'\n",
    "os.environ['SECRET_KEY'] = '12345'\n",
    "django.setup()"
   ]
  },
  {
   "cell_type": "code",
   "execution_count": 53,
   "metadata": {
    "collapsed": true
   },
   "outputs": [],
   "source": [
    "def convert_index(index):\n",
    "    \"\"\" Convert A/C into R (red) and T into G (green). \"\"\"\n",
    "    return re.sub('T', 'G', re.sub('A|C', 'R', index))\n",
    "\n",
    "\n",
    "def best_pair_scores(index1, index2, depth1, depth2):\n",
    "    \"\"\"\n",
    "    Calculate the score for two given indices.\n",
    "\n",
    "    Score is an absolute difference between the sequence depths of\n",
    "    the two indices divided by the total sequence depth (in %).\n",
    "\n",
    "    The ideal score is 0.0 (50% green and 50% red),\n",
    "    an acceptable score is 60.0 (80%/20% or 20%/80%).\n",
    "\n",
    "    If the score > 60%, then the indices are not compatible.\n",
    "    \"\"\"\n",
    "    index1 = convert_index(index1)\n",
    "    index2 = convert_index(index2)\n",
    "    total_depth = depth1 + depth2\n",
    "    result = []\n",
    "\n",
    "    for cycle in range(6):\n",
    "        if index1[cycle] != index2[cycle]:\n",
    "            difference = abs(depth1 - depth2) / total_depth * 100\n",
    "            if difference <= 60.0:\n",
    "                result.append(difference)\n",
    "            else:\n",
    "                # If color diversity is low (81%/19% or worse) in\n",
    "                # one of the cycles\n",
    "                return -1\n",
    "        else:\n",
    "            # If nucleotides are only red (A/C) or green (G/T) in a cycle\n",
    "            return -1\n",
    "\n",
    "    return result"
   ]
  },
  {
   "cell_type": "code",
   "execution_count": 54,
   "metadata": {
    "collapsed": false,
    "deletable": true,
    "editable": true
   },
   "outputs": [],
   "source": [
    "import re\n",
    "\n",
    "from library_sample_shared.models import IndexI7, IndexI5\n",
    "from library.models import Library\n",
    "from sample.models import Sample\n",
    "\n",
    "# library_ids = [4, 6]\n",
    "library_ids = []\n",
    "sample_ids = [1, 2, 3]"
   ]
  },
  {
   "cell_type": "code",
   "execution_count": 60,
   "metadata": {
    "collapsed": false,
    "deletable": true,
    "editable": true
   },
   "outputs": [
    {
     "name": "stdout",
     "output_type": "stream",
     "text": [
      "{'index1': {'index_id': 73, 'index': 'TAAGGCGA'}, 'avg_score': 0.0, 'index2': {'index_id': 69, 'index': 'CGTACG'}}\n"
     ]
    }
   ],
   "source": [
    "libraries = Library.objects.filter(id__in=library_ids)\n",
    "samples = Sample.objects.filter(id__in=sample_ids)\n",
    "\n",
    "result = []\n",
    "\n",
    "\n",
    "# Index types for all libraries and samples\n",
    "index_types = list(set(\n",
    "    [l.index_type for l in libraries] + [s.index_type for s in samples]\n",
    "))\n",
    "\n",
    "# Dictionary with all indices\n",
    "indices = {}\n",
    "for index_type in index_types:\n",
    "    indices[index_type.pk] = {'i7': [], 'i5': []}\n",
    "    \n",
    "    if index_type.is_index_i7:\n",
    "        indices[index_type.pk]['i7'].extend([\n",
    "            {\n",
    "                'index': idx.index,\n",
    "                'index_id': idx.pk,\n",
    "            }\n",
    "            for idx in IndexI7.objects.filter(index_type=index_type.pk)\n",
    "        ])\n",
    "        \n",
    "        indices[index_type.pk]['i5'].extend([\n",
    "            {\n",
    "                'index': idx.index,\n",
    "                'index_id': idx.pk,\n",
    "            }\n",
    "            for idx in IndexI5.objects.filter(index_type=index_type.pk)\n",
    "        ])\n",
    "\n",
    "\n",
    "num_libraries = libraries.count()\n",
    "num_samples = samples.count()\n",
    "\n",
    "\n",
    "if num_samples > 0:\n",
    "    if num_libraries > 0:\n",
    "        # Add all libraries directly to the result\n",
    "        case = 1\n",
    "    else:\n",
    "        # Generate indices only for samples\n",
    "        case = 2\n",
    "\n",
    "        if num_samples > 1:\n",
    "            # Find a pair of best matching indices (I7)\n",
    "            # TODO@me: ensure index_type != ''\n",
    "            best_pair = {'avg_score': 100.0}  # the worst score\n",
    "            for index1 in indices[samples[0].index_type.pk]['i7']:\n",
    "                for index2 in indices[samples[1].index_type.pk]['i7']:\n",
    "                    if index1 != index2:\n",
    "                        scores = best_pair_scores(\n",
    "                            index1['index'],\n",
    "                            index2['index'],\n",
    "                            samples[0].sequencing_depth,\n",
    "                            samples[1].sequencing_depth\n",
    "                        )\n",
    "                        \n",
    "                        # If both indices are compatible\n",
    "                        if scores != -1:\n",
    "                            avg_score = sum(scores) / 6\n",
    "                            if avg_score < best_pair['avg_score']:\n",
    "                                best_pair = {\n",
    "                                    'index1': index1,\n",
    "                                    'index2': index2,\n",
    "                                    'avg_score': avg_score\n",
    "                                }\n",
    "            if 'index1' in best_pair.keys():\n",
    "                pass\n",
    "            else:\n",
    "                error = 'Could not find the best matching pair of indices.'\n",
    "        else:\n",
    "            error = 'It is not possible to generate an index only for one sample.'\n",
    "else:\n",
    "    error = 'No samples.'\n",
    "\n",
    "if error == '':\n",
    "    if case == 1:\n",
    "        # If there are any libraries, consider all samples \n",
    "        start = 0\n",
    "    else:\n",
    "        # case 2: generate indices for all samples, except for the first two\n",
    "        start = 2\n",
    "        \n",
    "    "
   ]
  },
  {
   "cell_type": "code",
   "execution_count": 48,
   "metadata": {
    "collapsed": false
   },
   "outputs": [
    {
     "data": {
      "text/plain": [
       "<QuerySet [<Library: Library3>, <Library: Library5>]>"
      ]
     },
     "execution_count": 48,
     "metadata": {},
     "output_type": "execute_result"
    }
   ],
   "source": []
  },
  {
   "cell_type": "code",
   "execution_count": null,
   "metadata": {
    "collapsed": true
   },
   "outputs": [],
   "source": []
  }
 ],
 "metadata": {
  "kernelspec": {
   "display_name": "Django Shell-Plus",
   "language": "python",
   "name": "django_extensions"
  },
  "language_info": {
   "codemirror_mode": {
    "name": "ipython",
    "version": 3
   },
   "file_extension": ".py",
   "mimetype": "text/x-python",
   "name": "python",
   "nbconvert_exporter": "python",
   "pygments_lexer": "ipython3",
   "version": "3.5.2"
  }
 },
 "nbformat": 4,
 "nbformat_minor": 2
}
